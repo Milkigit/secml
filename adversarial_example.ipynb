{
 "cells": [
  {
   "cell_type": "code",
   "execution_count": null,
   "metadata": {},
   "outputs": [],
   "source": [
    "import torch\n",
    "import torchvision as tv\n",
    "import torch.nn.functional as F\n",
    "import numpy as np\n",
    "import matplotlib.pyplot as plt\n",
    "from PIL import Image\n",
    "from tqdm import tqdm_notebook as tqdm"
   ]
  },
  {
   "cell_type": "code",
   "execution_count": null,
   "metadata": {},
   "outputs": [],
   "source": [
    "# Load Alexnet image classifier.\n",
    "model = tv.models.alexnet(pretrained=True)"
   ]
  },
  {
   "cell_type": "code",
   "execution_count": null,
   "metadata": {},
   "outputs": [],
   "source": [
    "# Show the architecture of the classifier.\n",
    "print(model)"
   ]
  },
  {
   "cell_type": "code",
   "execution_count": null,
   "metadata": {},
   "outputs": [],
   "source": [
    "# Load a lion image. From this image we want to create an\n",
    "# adversarial examples.\n",
    "img_lion = Image.open(\"lion.jpg\")\n",
    "plt.imshow(img_lion)\n",
    "plt.show()"
   ]
  },
  {
   "cell_type": "code",
   "execution_count": null,
   "metadata": {},
   "outputs": [],
   "source": [
    "# Define some convenient functions.\n",
    "\n",
    "as_tensor = tv.transforms.ToTensor()\n",
    "\n",
    "normalize = tv.transforms.Normalize(\n",
    "    mean=[0.485, 0.456, 0.406], \n",
    "    std=[0.229, 0.224, 0.225]\n",
    ")\n",
    "\n",
    "# Reverse the normalization and convert the tensor into a PIL image.\n",
    "reverse = tv.transforms.Compose([\n",
    "    tv.transforms.Normalize(\n",
    "            mean=[0, 0, 0], std=[1.0/0.229, 1.0/0.224, 1.0/0.225]),\n",
    "    tv.transforms.Normalize(\n",
    "            mean=[-0.485, -0.456, -0.406], std=[1, 1, 1]),\n",
    "    tv.transforms.ToPILImage()\n",
    "])\n",
    "\n",
    "# Returns the class name for the given index.\n",
    "def classname(idx):\n",
    "    import json\n",
    "    classidx = json.load(open(\"imagenet_class_index.json\"))\n",
    "    return classidx[str(idx)][1]\n",
    "\n",
    "# Use Alexnet to predict the category of the given image.\n",
    "def predict(img):\n",
    "    # Convert the image to a tensor and normalize it.\n",
    "    v = normalize(as_tensor(img.copy()))\n",
    "    # Insert a dimension.\n",
    "    v = v.unsqueeze(0)\n",
    "    # Compute class probabilities for the normalized input using Alexnet.\n",
    "    r = F.softmax(model(v), dim=1)\n",
    "    # Select the category with the highest probability.\n",
    "    idx = r.argmax().item()\n",
    "    # Get the class name for the category.\n",
    "    label = classname(idx)\n",
    "    return idx, label, r.data[0, idx].item()"
   ]
  },
  {
   "cell_type": "code",
   "execution_count": null,
   "metadata": {},
   "outputs": [],
   "source": [
    "# Predict the lion image.\n",
    "predict(img_lion)"
   ]
  },
  {
   "cell_type": "code",
   "execution_count": null,
   "metadata": {},
   "outputs": [],
   "source": [
    "# Load an image of an ostrich.\n",
    "tmp = Image.open(\"ostrich.jpg\")\n",
    "plt.imshow(tmp)\n",
    "plt.show()"
   ]
  },
  {
   "cell_type": "code",
   "execution_count": null,
   "metadata": {},
   "outputs": [],
   "source": [
    "# Predict the category of the ostrich to get the correct\n",
    "# target category.\n",
    "predict(tmp)"
   ]
  },
  {
   "cell_type": "code",
   "execution_count": null,
   "metadata": {},
   "outputs": [],
   "source": [
    "# Convert the lion image into a tensor.\n",
    "img = normalize(as_tensor(img_lion.copy())).requires_grad_(True)\n",
    "\n",
    "# Set the target category to the category of an ostrich.\n",
    "target = torch.LongTensor([9])\n",
    "\n",
    "# Use Adam as the optimizer.\n",
    "opt = torch.optim.Adam([img])\n",
    "\n",
    "h = []\n",
    "for _ in tqdm(range(100)):\n",
    "    # Bound the entries of the tensor between [-1.8, 1.8]\n",
    "    x = img.clamp(-1.8, 1.8)\n",
    "    # Set the correct dimensions so that we can classify x.\n",
    "    x = x.view(1, 3, 224, 224)\n",
    "    # Compute the error for x.\n",
    "    loss = F.cross_entropy(model(x), target)\n",
    "    h.append(loss.item())\n",
    "    # Compute the gradient and update the parameters.\n",
    "    opt.zero_grad()\n",
    "    loss.backward()\n",
    "    opt.step()"
   ]
  },
  {
   "cell_type": "code",
   "execution_count": null,
   "metadata": {},
   "outputs": [],
   "source": [
    "# Plot the learning curve.\n",
    "plt.plot(h)\n",
    "plt.show()"
   ]
  },
  {
   "cell_type": "code",
   "execution_count": null,
   "metadata": {},
   "outputs": [],
   "source": [
    "img = img.clamp(-1.8, 1.8)\n",
    "\n",
    "# Convert the tensor (adversarial image) into an image.\n",
    "img_lion_ostrich = reverse(img.clone())\n",
    "\n",
    "# Show the adversarial image and the predicted category.\n",
    "plt.imshow(img_lion_ostrich)\n",
    "plt.show()\n",
    "print(predict(img_lion_ostrich))\n",
    "\n",
    "# Show the original lion image and the predicted category.\n",
    "plt.imshow(img_lion)\n",
    "plt.show()\n",
    "print(predict(img_lion))"
   ]
  },
  {
   "cell_type": "code",
   "execution_count": null,
   "metadata": {},
   "outputs": [],
   "source": [
    "# Show the difference (boosted by a factor of 50).\n",
    "d = np.abs(\n",
    "    np.array(img_lion, dtype=np.int) - \n",
    "    np.array(img_lion_ostrich, dtype=np.int)\n",
    ")\n",
    "d = np.clip(d*50, 0, 255)\n",
    "plt.imshow(d)\n",
    "plt.show()"
   ]
  }
 ],
 "metadata": {
  "kernelspec": {
   "display_name": "Python 3",
   "language": "python",
   "name": "python3"
  },
  "language_info": {
   "codemirror_mode": {
    "name": "ipython",
    "version": 3
   },
   "file_extension": ".py",
   "mimetype": "text/x-python",
   "name": "python",
   "nbconvert_exporter": "python",
   "pygments_lexer": "ipython3",
   "version": "3.6.7"
  }
 },
 "nbformat": 4,
 "nbformat_minor": 2
}
