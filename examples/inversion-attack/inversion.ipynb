{
 "cells": [
  {
   "cell_type": "code",
   "execution_count": null,
   "metadata": {},
   "outputs": [],
   "source": [
    "import torch\n",
    "import torchvision as tv\n",
    "import matplotlib.pyplot as plt\n",
    "from PIL import Image\n",
    "import numpy as np"
   ]
  },
  {
   "cell_type": "code",
   "execution_count": null,
   "metadata": {},
   "outputs": [],
   "source": [
    "%%bash\n",
    "\n",
    "rm -rf .data\n",
    "mkdir -p .data/faces\n",
    "unzip -q att-database-of-faces.zip -d .data/faces-training\n",
    "cp -a .data/faces-training .data/faces-test\n",
    "\n",
    "rm .data/faces-training/*/{1,2,3,4,5}.pgm\n",
    "rm .data/faces-test/*/{6,7,8,9,10}.pgm\n"
   ]
  },
  {
   "cell_type": "code",
   "execution_count": null,
   "metadata": {},
   "outputs": [],
   "source": [
    "torch.manual_seed(1)\n",
    "\n",
    "t = tv.transforms.Compose([\n",
    "    tv.transforms.Grayscale(),\n",
    "    tv.transforms.ToTensor()\n",
    "])\n",
    "\n",
    "# Load AT&T database of faces.\n",
    "dataset = tv.datasets.ImageFolder(root=\".data/faces-training\", transform=t)\n"
   ]
  },
  {
   "cell_type": "code",
   "execution_count": null,
   "metadata": {},
   "outputs": [],
   "source": [
    "target_person = 37\n",
    "\n",
    "all_images_of_target = [img for img, label in dataset if label == target_person]\n",
    "\n",
    "_, ax = plt.subplots(1, len(all_images_of_target), figsize=(20, 5))\n",
    "    \n",
    "for p, img in zip(ax, all_images_of_target):\n",
    "    p.imshow(img.squeeze(), cmap=\"gray\")\n",
    "    p.axis(\"off\")\n",
    "\n",
    "plt.show()"
   ]
  },
  {
   "cell_type": "code",
   "execution_count": null,
   "metadata": {},
   "outputs": [],
   "source": [
    "nc = 40\n",
    "nf = 112 * 92\n",
    "\n",
    "model = torch.nn.Linear(nf, nc)\n",
    "\n",
    "opt = torch.optim.SGD(model.parameters(), lr=0.1)\n",
    "\n",
    "criterion = torch.nn.CrossEntropyLoss()"
   ]
  },
  {
   "cell_type": "code",
   "execution_count": null,
   "metadata": {},
   "outputs": [],
   "source": [
    "loader = torch.utils.data.DataLoader(dataset, batch_size=20, shuffle=True)\n",
    "\n",
    "n_epochs = 20\n",
    "cost = []\n",
    "\n",
    "for i in range(n_epochs):\n",
    "    l = 0\n",
    "    n = 0\n",
    "    for img, labels in loader:\n",
    "        img = img.view(-1, nf)  # from [nbatches, 1, 112, 92] to [nbatches, 10304]\n",
    "        output = model(img)\n",
    "        opt.zero_grad()\n",
    "        loss = criterion(output, labels)\n",
    "        loss.backward()\n",
    "        \n",
    "        #############################################################\n",
    "        # Enable the following lines to simulate differential privacy\n",
    "        #############################################################\n",
    "        #rnd = torch.distributions.normal.Normal(0.0, 1.0)\n",
    "        #for p in model.parameters():\n",
    "        #    p.grad += rnd.sample(torch.Size(p.grad.shape)) * 0.07\n",
    "        #############################################################\n",
    "\n",
    "        opt.step()\n",
    "        l += loss.item()\n",
    "        n += 1\n",
    "    print(i, l/n)\n",
    "    cost.append(l/n)\n",
    "        \n",
    "plt.plot(cost)\n",
    "plt.show()"
   ]
  },
  {
   "cell_type": "code",
   "execution_count": null,
   "metadata": {},
   "outputs": [],
   "source": [
    "dataset = tv.datasets.ImageFolder(root=\".data/faces-test\", transform=t)\n",
    "test_loader = torch.utils.data.DataLoader(dataset, batch_size=200, shuffle=True)\n",
    "\n",
    "with torch.no_grad():\n",
    "    img, labels = iter(test_loader).next()\n",
    "    r = model(img.view(-1, nf))\n",
    "    p = r.argmax(dim=1)\n",
    "    print(\"images:\", len(labels))\n",
    "    print(\"accuracy:\", (labels == p).sum().item() / len(labels))\n"
   ]
  },
  {
   "cell_type": "code",
   "execution_count": null,
   "metadata": {},
   "outputs": [],
   "source": [
    "import torch.nn.functional as F\n",
    "\n",
    "x = torch.zeros(nf, requires_grad=True)\n",
    "o = torch.optim.SGD([x], lr=0.1)\n",
    "\n",
    "for i in range(1000):\n",
    "    scores = F.softmax(model(x.view(1, nf)), dim=1).squeeze()\n",
    "    e = torch.tensor([1.0]) - scores[target_person] # error for the target label\n",
    "    o.zero_grad()\n",
    "    e.backward()\n",
    "    o.step()\n",
    "    \n",
    "x"
   ]
  },
  {
   "cell_type": "code",
   "execution_count": null,
   "metadata": {},
   "outputs": [],
   "source": [
    "r = F.softmax(model(x), dim=0)\n",
    "print(\"score of target person:\", r[target_person].item())\n",
    "print(\"scores:\")\n",
    "r"
   ]
  },
  {
   "cell_type": "code",
   "execution_count": null,
   "metadata": {},
   "outputs": [],
   "source": [
    "img = x.view(112, 92).detach()\n",
    "\n",
    "plt.imshow(img, cmap=\"gray\")\n",
    "plt.show()"
   ]
  },
  {
   "cell_type": "code",
   "execution_count": null,
   "metadata": {},
   "outputs": [],
   "source": []
  }
 ],
 "metadata": {
  "kernelspec": {
   "display_name": "Python 3",
   "language": "python",
   "name": "python3"
  },
  "language_info": {
   "codemirror_mode": {
    "name": "ipython",
    "version": 3
   },
   "file_extension": ".py",
   "mimetype": "text/x-python",
   "name": "python",
   "nbconvert_exporter": "python",
   "pygments_lexer": "ipython3",
   "version": "3.6.9"
  }
 },
 "nbformat": 4,
 "nbformat_minor": 2
}
