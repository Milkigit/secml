{
 "cells": [
  {
   "cell_type": "code",
   "execution_count": null,
   "metadata": {},
   "outputs": [],
   "source": [
    "import torch\n",
    "import torchvision.datasets as ds\n",
    "import torchvision.transforms as transforms"
   ]
  },
  {
   "cell_type": "code",
   "execution_count": null,
   "metadata": {},
   "outputs": [],
   "source": [
    "# Load the MNIST training dataset.\n",
    "# ToTensor converts PIL image to (CxHxW) in the range [0.0, 1.0].\n",
    "train_set = ds.MNIST(\".data\", train=True, transform=transforms.ToTensor(), download=True)"
   ]
  },
  {
   "cell_type": "code",
   "execution_count": null,
   "metadata": {},
   "outputs": [],
   "source": [
    "# Just select examples with labels 0 or 1.\n",
    "X_, y_ = zip(*[i for i in train_set if i[1] < 2])"
   ]
  },
  {
   "cell_type": "code",
   "execution_count": null,
   "metadata": {},
   "outputs": [],
   "source": [
    "import torchvision.utils as u\n",
    "import matplotlib.pyplot as plt\n",
    "import numpy as np\n",
    "\n",
    "# Plot the first 100 examples of the dataset.\n",
    "plt.imshow(np.transpose(u.make_grid(list(X_[:100]), 10).numpy(), (1,2,0)))"
   ]
  },
  {
   "cell_type": "code",
   "execution_count": null,
   "metadata": {},
   "outputs": [],
   "source": [
    "# Each image has a size of 28x28.\n",
    "n = 28*28\n",
    "\n",
    "# Convert lists of examples and labels to tensors.\n",
    "X = torch.stack(X_).view((-1, n))\n",
    "y = torch.tensor(y_).view(-1, 1).float()"
   ]
  },
  {
   "cell_type": "code",
   "execution_count": null,
   "metadata": {},
   "outputs": [],
   "source": [
    "from tqdm import tqdm_notebook\n",
    "\n",
    "# Linear regression model.\n",
    "model = torch.nn.Linear(n, 1, bias=True)\n",
    "\n",
    "# Select a loss function.\n",
    "loss = torch.nn.BCELoss()\n",
    "\n",
    "# Use stochastic gradient descent as the optimizer.\n",
    "opt = torch.optim.SGD(model.parameters(), lr=0.01)\n",
    "\n",
    "costs = []\n",
    "for i in tqdm_notebook(range(1000)):\n",
    "    # Classify the training examples.\n",
    "    pred_y = torch.sigmoid(model(X))\n",
    "    # Compute the loss function.\n",
    "    l = loss(pred_y, y)\n",
    "    costs.append(l)\n",
    "    # Compute gradient and update the parameters.\n",
    "    opt.zero_grad()\n",
    "    l.backward()\n",
    "    opt.step()"
   ]
  },
  {
   "cell_type": "code",
   "execution_count": null,
   "metadata": {},
   "outputs": [],
   "source": [
    "# Plot learning curve, i.e. the error in each iteration.\n",
    "plt.plot(costs[100:])"
   ]
  },
  {
   "cell_type": "markdown",
   "metadata": {},
   "source": [
    "# Test the model"
   ]
  },
  {
   "cell_type": "code",
   "execution_count": null,
   "metadata": {},
   "outputs": [],
   "source": [
    "# Load test examples.\n",
    "test_set = ds.MNIST(\".data\", train=False, transform=transforms.ToTensor(), download=True)\n",
    "\n",
    "X_test_, y_test_ = zip(*[i for i in test_set if i[1] < 2])\n",
    "X_test = torch.stack(X_test_).view(-1, n)\n",
    "y_test = torch.tensor(y_test_).view(-1, 1).float()"
   ]
  },
  {
   "cell_type": "code",
   "execution_count": null,
   "metadata": {},
   "outputs": [],
   "source": [
    "# Use the classifier to predict the categories for the test examples.\n",
    "pred_y = torch.sigmoid(model(X_test))\n",
    "# Convert the probabilities (i.e. [0,1] into class labels {0, 1})\n",
    "labels = torch.round(pred_y)"
   ]
  },
  {
   "cell_type": "code",
   "execution_count": null,
   "metadata": {},
   "outputs": [],
   "source": [
    "# Compute the accuracy of the classifier for the test examples.\n",
    "torch.sum(labels == y_test).item() / y_test.size(0)"
   ]
  },
  {
   "cell_type": "markdown",
   "metadata": {},
   "source": [
    "# Steal model parameters"
   ]
  },
  {
   "cell_type": "code",
   "execution_count": null,
   "metadata": {},
   "outputs": [],
   "source": [
    "# We have 28*28+1 unknowns (28*28 weights + 1 bias). Therefore, \n",
    "# we need 28*28+1 queries (i.e. equations).\n",
    "k = n+1\n",
    "\n",
    "# Create k random queries.\n",
    "queries = torch.rand((k, n))\n",
    "\n",
    "# Use the classifier to predict the categories for the queries.\n",
    "output = model(queries)"
   ]
  },
  {
   "cell_type": "code",
   "execution_count": null,
   "metadata": {},
   "outputs": [],
   "source": [
    "# Add a column with ones for the bias to the queries. Shape (k, n) → (k, n+1).\n",
    "q = torch.cat((queries, torch.ones((k, 1))), 1)\n",
    "\n",
    "# Convert the queries with the added column into a numpy array.\n",
    "a = q.data.numpy()\n",
    "\n",
    "# Convert the output of the classifier into a numpy array.\n",
    "b = output.data.squeeze().numpy()"
   ]
  },
  {
   "cell_type": "code",
   "execution_count": null,
   "metadata": {},
   "outputs": [],
   "source": [
    "# Solve for the parameters.\n",
    "x = np.linalg.solve(a, b)"
   ]
  },
  {
   "cell_type": "code",
   "execution_count": null,
   "metadata": {},
   "outputs": [],
   "source": [
    "# Print the first 20 recovered parameter.\n",
    "x[:20]"
   ]
  },
  {
   "cell_type": "code",
   "execution_count": null,
   "metadata": {},
   "outputs": [],
   "source": [
    "# Print the first 20 parameters of the model.\n",
    "model.weight.squeeze().data.numpy()[:20]"
   ]
  }
 ],
 "metadata": {
  "kernelspec": {
   "display_name": "Python 3",
   "language": "python",
   "name": "python3"
  },
  "language_info": {
   "codemirror_mode": {
    "name": "ipython",
    "version": 3
   },
   "file_extension": ".py",
   "mimetype": "text/x-python",
   "name": "python",
   "nbconvert_exporter": "python",
   "pygments_lexer": "ipython3",
   "version": "3.6.7"
  }
 },
 "nbformat": 4,
 "nbformat_minor": 2
}
